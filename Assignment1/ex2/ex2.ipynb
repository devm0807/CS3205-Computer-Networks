{
 "cells": [
  {
   "cell_type": "code",
   "execution_count": 1,
   "id": "7a5298f6",
   "metadata": {},
   "outputs": [],
   "source": [
    "import gzip"
   ]
  },
  {
   "cell_type": "code",
   "execution_count": 2,
   "id": "d31a6db9",
   "metadata": {},
   "outputs": [],
   "source": [
    "def extract_packets():\n",
    "    allpackets = []\n",
    "    with open('htmlhexdump.txt', 'r') as file:\n",
    "        packet = ''\n",
    "        for line in file:\n",
    "            temp = line.strip().split('  ')\n",
    "            if len(temp) >= 3:\n",
    "                if temp[0].startswith('0000'):  # New packet start\n",
    "                    if packet:\n",
    "                        allpackets.append(packet)\n",
    "                    packet = ''\n",
    "                packet += ''.join(temp[1].split())\n",
    "        if packet:  # Append last packet\n",
    "            allpackets.append(packet)\n",
    "    return allpackets"
   ]
  },
  {
   "cell_type": "code",
   "execution_count": 3,
   "id": "3cccd638",
   "metadata": {},
   "outputs": [],
   "source": [
    "def parse_packet(data):\n",
    "    hexdata = bytes.fromhex(data)\n",
    "\n",
    "    if len(hexdata) < 34:  # Min Ethernet(14) + IP(20)\n",
    "        return b''\n",
    "\n",
    "    ethernet_header_len = 14\n",
    "    ipheader_offset = ethernet_header_len\n",
    "    ipheader = hexdata[ipheader_offset: ipheader_offset + 20]\n",
    "\n",
    "    if (ipheader[0] >> 4) != 4:  # Ensure IPv4\n",
    "        return b''\n",
    "\n",
    "    ipheader_len = (ipheader[0] & 0x0F) * 4\n",
    "    protocol = ipheader[9]\n",
    "\n",
    "    if protocol != 6:  # Not TCP\n",
    "        return b''\n",
    "\n",
    "    tcpheader_offset = ethernet_header_len + ipheader_len\n",
    "    if len(hexdata) < tcpheader_offset + 20:\n",
    "        return b''\n",
    "\n",
    "    tcpheader = hexdata[tcpheader_offset: tcpheader_offset + 20]\n",
    "    tcplen = ((tcpheader[12] >> 4) & 0x0F) * 4\n",
    "\n",
    "    httpheader_offset = tcpheader_offset + tcplen\n",
    "    if len(hexdata) < httpheader_offset:\n",
    "        return b''\n",
    "\n",
    "    return hexdata[httpheader_offset:]"
   ]
  },
  {
   "cell_type": "code",
   "execution_count": 4,
   "id": "933016d5",
   "metadata": {},
   "outputs": [],
   "source": [
    "# Extract and parse packets\n",
    "pkts = extract_packets()\n",
    "httpdata = b''.join(parse_packet(pkt) for pkt in pkts)"
   ]
  },
  {
   "cell_type": "code",
   "execution_count": 5,
   "id": "08829a28",
   "metadata": {},
   "outputs": [],
   "source": [
    "# Extract headers\n",
    "header_end = httpdata.find(b'\\r\\n\\r\\n')\n",
    "\n",
    "headers = httpdata[:header_end].decode('utf-8', errors='ignore')\n",
    "payload = httpdata[header_end + 4:]"
   ]
  },
  {
   "cell_type": "code",
   "execution_count": 6,
   "id": "5ae12ab6",
   "metadata": {},
   "outputs": [
    {
     "name": "stdout",
     "output_type": "stream",
     "text": [
      "Compression Ratio: 4.92\n",
      "Original (Compressed) Size: 31249 bytes\n",
      "Decompressed Size: 153743 bytes\n",
      "Compression Ratio: 4.92\n"
     ]
    }
   ],
   "source": [
    "# Store original (compressed) size\n",
    "compressed_size = len(payload)\n",
    "\n",
    "decompressed_payload = gzip.decompress(payload)\n",
    "decompressed_size = len(decompressed_payload)  # Store uncompressed size\n",
    "compression_ratio = decompressed_size / compressed_size if compressed_size > 0 else None\n",
    "print(f\"Compression Ratio: {compression_ratio:.2f}\")\n",
    "\n",
    "print(f\"Original (Compressed) Size: {compressed_size} bytes\")\n",
    "print(f\"Decompressed Size: {decompressed_size} bytes\")\n",
    "print(f\"Compression Ratio: {compression_ratio:.2f}\")"
   ]
  }
 ],
 "metadata": {
  "kernelspec": {
   "display_name": ".venv",
   "language": "python",
   "name": "python3"
  },
  "language_info": {
   "codemirror_mode": {
    "name": "ipython",
    "version": 3
   },
   "file_extension": ".py",
   "mimetype": "text/x-python",
   "name": "python",
   "nbconvert_exporter": "python",
   "pygments_lexer": "ipython3",
   "version": "3.12.3"
  }
 },
 "nbformat": 4,
 "nbformat_minor": 5
}
