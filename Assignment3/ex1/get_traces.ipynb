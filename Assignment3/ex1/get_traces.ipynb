{
 "cells": [
  {
   "cell_type": "code",
   "execution_count": null,
   "metadata": {},
   "outputs": [],
   "source": [
    "# CS3205 Networks - Assignment 3\n",
    "# CS22B007, CS22B008\n",
    "# TA group 1\n",
    "\n",
    "import subprocess\n",
    "import time"
   ]
  },
  {
   "cell_type": "code",
   "execution_count": 10,
   "metadata": {},
   "outputs": [],
   "source": [
    "# List of (Country, Domain)\n",
    "targets = [\n",
    "    (\"Angola\", \"paratus.ao\"),\n",
    "    (\"Botswana\", \"weekendpost.co.bw\"),\n",
    "    (\"Burkina Faso\", \"onatel.bf\"),\n",
    "    (\"Cameroon\", \"camtel.cm\"),\n",
    "    (\"DR Congo\", \"vodacom.cd\"),\n",
    "    (\"Libya\", \"ltt.ly\"),\n",
    "    (\"Madagascar\", \"telma.mg\"),\n",
    "    (\"Mali\", \"afribone.com\"),\n",
    "    (\"Morocco\", \"orange.ma\"),\n",
    "    (\"Namibia\", \"namhost.com\"),\n",
    "    (\"Rwanda\", \"ricta.org.rw\"),\n",
    "    (\"Senegal\", \"sonatel.sn\"),\n",
    "    (\"Uganda\", \"ucc.co.ug\"),\n",
    "    (\"Zambia\", \"zamnet.zm\"),\n",
    "    (\"Zimbabwe\", \"zol.co.zw\")\n",
    "]"
   ]
  },
  {
   "cell_type": "code",
   "execution_count": 11,
   "metadata": {},
   "outputs": [],
   "source": [
    "# bash script to run traceroute\n",
    "traceroute_script = \"traceroute_CS3205.sh\"\n",
    "\n",
    "# Output file\n",
    "output_file = \"traceroute_log.txt\""
   ]
  },
  {
   "cell_type": "code",
   "execution_count": 12,
   "metadata": {},
   "outputs": [
    {
     "name": "stdout",
     "output_type": "stream",
     "text": [
      "All traceroutes completed. Logs saved to traceroute_log.txt\n"
     ]
    }
   ],
   "source": [
    "# Open file for writing all outputs\n",
    "with open(output_file, 'w') as f:\n",
    "    for country, domain in targets:\n",
    "        for run in range(1, 11):  # 10 times\n",
    "            f.write(f\"\\n\\n======= {country} | {domain} | Run {run}  =======\\n\")\n",
    "            try:\n",
    "                # Run the traceroute script\n",
    "                result = subprocess.run([\"./traceroute_CS3205.sh\", domain], capture_output=True, text=True)\n",
    "                output = result.stdout\n",
    "                f.write(output)\n",
    "            except Exception as e:\n",
    "                f.write(f\"Error during traceroute to {domain}: {str(e)}\\n\")\n",
    "\n",
    "print(f\"All traceroutes completed. Logs saved to {output_file}\")\n"
   ]
  }
 ],
 "metadata": {
  "kernelspec": {
   "display_name": ".venv",
   "language": "python",
   "name": "python3"
  },
  "language_info": {
   "codemirror_mode": {
    "name": "ipython",
    "version": 3
   },
   "file_extension": ".py",
   "mimetype": "text/x-python",
   "name": "python",
   "nbconvert_exporter": "python",
   "pygments_lexer": "ipython3",
   "version": "3.12.3"
  }
 },
 "nbformat": 4,
 "nbformat_minor": 2
}
